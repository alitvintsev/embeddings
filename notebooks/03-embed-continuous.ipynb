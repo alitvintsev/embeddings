{
 "cells": [
  {
   "cell_type": "markdown",
   "id": "ed08e365-ea25-4d18-8df6-939971d03c36",
   "metadata": {},
   "source": [
    "# Embeddings from Continuous Data"
   ]
  },
  {
   "cell_type": "code",
   "execution_count": 1,
   "id": "78519d1a-a024-4335-a6c4-11babd752a24",
   "metadata": {},
   "outputs": [
    {
     "name": "stdout",
     "output_type": "stream",
     "text": [
      "Wed Feb  1 19:51:29 2023       \n",
      "+-----------------------------------------------------------------------------+\n",
      "| NVIDIA-SMI 470.103.01   Driver Version: 470.103.01   CUDA Version: 11.4     |\n",
      "|-------------------------------+----------------------+----------------------+\n",
      "| GPU  Name        Persistence-M| Bus-Id        Disp.A | Volatile Uncorr. ECC |\n",
      "| Fan  Temp  Perf  Pwr:Usage/Cap|         Memory-Usage | GPU-Util  Compute M. |\n",
      "|                               |                      |               MIG M. |\n",
      "|===============================+======================+======================|\n",
      "|   0  Tesla T4            On   | 00000000:00:06.0 Off |                    0 |\n",
      "| N/A   26C    P8     9W /  70W |      0MiB / 15109MiB |      0%      Default |\n",
      "|                               |                      |                  N/A |\n",
      "+-------------------------------+----------------------+----------------------+\n",
      "                                                                               \n",
      "+-----------------------------------------------------------------------------+\n",
      "| Processes:                                                                  |\n",
      "|  GPU   GI   CI        PID   Type   Process name                  GPU Memory |\n",
      "|        ID   ID                                                   Usage      |\n",
      "|=============================================================================|\n",
      "|  No running processes found                                                 |\n",
      "+-----------------------------------------------------------------------------+\n"
     ]
    }
   ],
   "source": [
    "! nvidia-smi"
   ]
  },
  {
   "cell_type": "markdown",
   "id": "a109061d-6ffe-4ca5-8d7c-bfab7c03ea75",
   "metadata": {
    "tags": []
   },
   "source": [
    "### Import Libs"
   ]
  },
  {
   "cell_type": "code",
   "execution_count": 59,
   "id": "68a47e63-6dbf-445a-81cb-8dec08d82a16",
   "metadata": {},
   "outputs": [
    {
     "name": "stdout",
     "output_type": "stream",
     "text": [
      "Collecting torchsummary\n",
      "  Downloading torchsummary-1.5.1-py3-none-any.whl (2.8 kB)\n",
      "Installing collected packages: torchsummary\n",
      "Successfully installed torchsummary-1.5.1\n",
      "\u001b[33mWARNING: Running pip as the 'root' user can result in broken permissions and conflicting behaviour with the system package manager. It is recommended to use a virtual environment instead: https://pip.pypa.io/warnings/venv\u001b[0m\n"
     ]
    }
   ],
   "source": [
    "! pip install torchsummary"
   ]
  },
  {
   "cell_type": "code",
   "execution_count": 57,
   "id": "758dcdde-884b-4d4a-8bc8-f982748704f8",
   "metadata": {},
   "outputs": [],
   "source": [
    "import numpy as np\n",
    "import pandas as pd\n",
    "from pandas.api.types import is_numeric_dtype\n",
    "import seaborn as sns\n",
    "from sklearn.model_selection import train_test_split\n",
    "from sklearn.metrics import mean_squared_error, r2_score\n",
    "from sklearn.preprocessing import LabelEncoder, MinMaxScaler, StandardScaler"
   ]
  },
  {
   "cell_type": "code",
   "execution_count": 60,
   "id": "2fa9ec92-e063-4d49-ade3-2ad8007080b5",
   "metadata": {},
   "outputs": [],
   "source": [
    "import torch\n",
    "from torch import nn\n",
    "import torch.nn.functional as F\n",
    "from torch.utils.data import Dataset, DataLoader, TensorDataset\n",
    "from torchvision import transforms\n",
    "from torchsummary import summary"
   ]
  },
  {
   "cell_type": "markdown",
   "id": "db1c6775-f88f-4899-bffe-9b3670a12e67",
   "metadata": {},
   "source": [
    "### Options"
   ]
  },
  {
   "cell_type": "code",
   "execution_count": 3,
   "id": "aab605a0-e0b0-4b44-9b10-9a207d077895",
   "metadata": {},
   "outputs": [
    {
     "data": {
      "text/plain": [
       "<torch._C.Generator at 0x7fb666f62378>"
      ]
     },
     "execution_count": 3,
     "metadata": {},
     "output_type": "execute_result"
    }
   ],
   "source": [
    "torch.manual_seed(42)"
   ]
  },
  {
   "cell_type": "code",
   "execution_count": 4,
   "id": "29a2c838-437a-43a5-bbed-6c40f78ba4fb",
   "metadata": {},
   "outputs": [],
   "source": [
    "pd.set_option('display.max_columns', None)\n",
    "pd.set_option('display.max_rows', None)"
   ]
  },
  {
   "cell_type": "code",
   "execution_count": 5,
   "id": "96500255-2eef-4ef9-997f-53e0df1a9483",
   "metadata": {},
   "outputs": [
    {
     "data": {
      "text/plain": [
       "device(type='cuda', index=0)"
      ]
     },
     "execution_count": 5,
     "metadata": {},
     "output_type": "execute_result"
    }
   ],
   "source": [
    "device = torch.device(\"cuda:0\" if torch.cuda.is_available() else \"cpu\")\n",
    "device"
   ]
  },
  {
   "cell_type": "markdown",
   "id": "cf398b04-3148-4782-8927-33c90fbfac7d",
   "metadata": {},
   "source": [
    "### Help Functions"
   ]
  },
  {
   "cell_type": "code",
   "execution_count": 6,
   "id": "6da02813-b37e-4ffd-8158-14c80ac80d63",
   "metadata": {},
   "outputs": [],
   "source": [
    "def haversine_distance(df, lat1, long1, lat2, long2):\n",
    "    \"\"\"\n",
    "    Calculates the haversine distance between 2 sets of GPS coordinates in df\n",
    "    \"\"\"\n",
    "    r = 6371  # average radius of Earth in kilometers\n",
    "       \n",
    "    phi1 = np.radians(df[lat1])\n",
    "    phi2 = np.radians(df[lat2])\n",
    "    \n",
    "    delta_phi = np.radians(df[lat2]-df[lat1])\n",
    "    delta_lambda = np.radians(df[long2]-df[long1])\n",
    "     \n",
    "    a = np.sin(delta_phi/2)**2 + np.cos(phi1) * np.cos(phi2) * np.sin(delta_lambda/2)**2\n",
    "    c = 2 * np.arctan2(np.sqrt(a), np.sqrt(1-a))\n",
    "    d = (r * c) # in kilometers\n",
    "\n",
    "    return d"
   ]
  },
  {
   "cell_type": "markdown",
   "id": "73fb0e47-d630-48e5-b44f-d7960abbea35",
   "metadata": {
    "tags": []
   },
   "source": [
    "### Data"
   ]
  },
  {
   "cell_type": "code",
   "execution_count": 7,
   "id": "9a2eaf04-8159-4309-8643-b99b15855088",
   "metadata": {},
   "outputs": [],
   "source": [
    "# ! kaggle competitions download -c new-york-city-taxi-fare-prediction"
   ]
  },
  {
   "cell_type": "code",
   "execution_count": 8,
   "id": "370ed437-8ea0-4e75-95d2-4bb50394da05",
   "metadata": {},
   "outputs": [],
   "source": [
    "# ! unzip ../temp_data/new-york-city-taxi-fare-prediction.zip"
   ]
  },
  {
   "cell_type": "code",
   "execution_count": 9,
   "id": "9269e01a-7344-4608-b233-408ba254c9b3",
   "metadata": {},
   "outputs": [
    {
     "name": "stdout",
     "output_type": "stream",
     "text": [
      "total 7200344\n",
      "drwxr-xr-x 3 root root       4096 Jan 29 15:17 .\n",
      "drwxr-xr-x 7 root root       4096 Jan 29 15:17 ..\n",
      "-rw-r--r-- 1 root root        486 Dec 12  2019 GCP-Coupons-Instructions.rtf\n",
      "drwxr-xr-x 2 root root       4096 Jan 29 15:14 .ipynb_checkpoints\n",
      "-rw-r--r-- 1 root root 1674619075 Jan 29 15:11 new-york-city-taxi-fare-prediction.zip\n",
      "-rw-r--r-- 1 root root     343271 Dec 12  2019 sample_submission.csv\n",
      "-rw-r--r-- 1 root root     983020 Dec 12  2019 test.csv\n",
      "-rw-r--r-- 1 root root 5697178298 Dec 12  2019 train.csv\n"
     ]
    }
   ],
   "source": [
    "! ls -la ../data_ny/"
   ]
  },
  {
   "cell_type": "code",
   "execution_count": 10,
   "id": "08cb1ad0-c57c-4f77-bfa5-3d2403935fbf",
   "metadata": {},
   "outputs": [],
   "source": [
    "df_train = pd.read_csv('../data_ny/train.csv', nrows=100_000)"
   ]
  },
  {
   "cell_type": "code",
   "execution_count": 11,
   "id": "8fdca2cb-1c89-4847-9741-6db8adac10c4",
   "metadata": {},
   "outputs": [],
   "source": [
    "target = 'fare_amount'"
   ]
  },
  {
   "cell_type": "code",
   "execution_count": 12,
   "id": "e49cd1b2-83b1-41b8-8d1a-37bb27e8e084",
   "metadata": {},
   "outputs": [
    {
     "data": {
      "text/plain": [
       "(100000, 8)"
      ]
     },
     "execution_count": 12,
     "metadata": {},
     "output_type": "execute_result"
    }
   ],
   "source": [
    "df_train.shape"
   ]
  },
  {
   "cell_type": "code",
   "execution_count": 13,
   "id": "41fd6dca-73da-44f7-b49e-4fe9cc68edc0",
   "metadata": {},
   "outputs": [],
   "source": [
    "df_train['dist_km'] = haversine_distance(df_train, 'pickup_latitude', 'pickup_longitude', 'dropoff_latitude', 'dropoff_longitude')"
   ]
  },
  {
   "cell_type": "code",
   "execution_count": 14,
   "id": "7ff05e7b-f4ab-4aec-9c0d-dbf21f22a123",
   "metadata": {},
   "outputs": [],
   "source": [
    "df_train['EDTdate'] = pd.to_datetime(df_train['pickup_datetime'].str[:19]) - pd.Timedelta(hours=4)"
   ]
  },
  {
   "cell_type": "code",
   "execution_count": 15,
   "id": "2ea55328-0654-4c1c-a23d-71cf9b6577a7",
   "metadata": {},
   "outputs": [],
   "source": [
    "df_train['Hour'] = df_train['EDTdate'].dt.hour"
   ]
  },
  {
   "cell_type": "code",
   "execution_count": 16,
   "id": "ac6fb8d3-ee54-4c7e-a3e7-3f7b2e791f93",
   "metadata": {},
   "outputs": [],
   "source": [
    "df_train['AMorPM'] = np.where(df_train['Hour']<12,'am','pm')"
   ]
  },
  {
   "cell_type": "code",
   "execution_count": 17,
   "id": "5c1e9116-1404-4878-a2ab-0b9c1491d99a",
   "metadata": {},
   "outputs": [],
   "source": [
    "df_train['Weekday'] = df_train['EDTdate'].dt.strftime(\"%a\")"
   ]
  },
  {
   "cell_type": "code",
   "execution_count": 18,
   "id": "6f455122-85c5-41bc-b0a2-efe37198c9df",
   "metadata": {},
   "outputs": [
    {
     "data": {
      "text/html": [
       "<div>\n",
       "<style scoped>\n",
       "    .dataframe tbody tr th:only-of-type {\n",
       "        vertical-align: middle;\n",
       "    }\n",
       "\n",
       "    .dataframe tbody tr th {\n",
       "        vertical-align: top;\n",
       "    }\n",
       "\n",
       "    .dataframe thead th {\n",
       "        text-align: right;\n",
       "    }\n",
       "</style>\n",
       "<table border=\"1\" class=\"dataframe\">\n",
       "  <thead>\n",
       "    <tr style=\"text-align: right;\">\n",
       "      <th></th>\n",
       "      <th>key</th>\n",
       "      <th>fare_amount</th>\n",
       "      <th>pickup_datetime</th>\n",
       "      <th>pickup_longitude</th>\n",
       "      <th>pickup_latitude</th>\n",
       "      <th>dropoff_longitude</th>\n",
       "      <th>dropoff_latitude</th>\n",
       "      <th>passenger_count</th>\n",
       "      <th>dist_km</th>\n",
       "      <th>EDTdate</th>\n",
       "      <th>Hour</th>\n",
       "      <th>AMorPM</th>\n",
       "      <th>Weekday</th>\n",
       "    </tr>\n",
       "  </thead>\n",
       "  <tbody>\n",
       "    <tr>\n",
       "      <th>0</th>\n",
       "      <td>2009-06-15 17:26:21.0000001</td>\n",
       "      <td>4.5</td>\n",
       "      <td>2009-06-15 17:26:21 UTC</td>\n",
       "      <td>-73.844311</td>\n",
       "      <td>40.721319</td>\n",
       "      <td>-73.841610</td>\n",
       "      <td>40.712278</td>\n",
       "      <td>1</td>\n",
       "      <td>1.030764</td>\n",
       "      <td>2009-06-15 13:26:21</td>\n",
       "      <td>13</td>\n",
       "      <td>pm</td>\n",
       "      <td>Mon</td>\n",
       "    </tr>\n",
       "    <tr>\n",
       "      <th>1</th>\n",
       "      <td>2010-01-05 16:52:16.0000002</td>\n",
       "      <td>16.9</td>\n",
       "      <td>2010-01-05 16:52:16 UTC</td>\n",
       "      <td>-74.016048</td>\n",
       "      <td>40.711303</td>\n",
       "      <td>-73.979268</td>\n",
       "      <td>40.782004</td>\n",
       "      <td>1</td>\n",
       "      <td>8.450134</td>\n",
       "      <td>2010-01-05 12:52:16</td>\n",
       "      <td>12</td>\n",
       "      <td>pm</td>\n",
       "      <td>Tue</td>\n",
       "    </tr>\n",
       "    <tr>\n",
       "      <th>2</th>\n",
       "      <td>2011-08-18 00:35:00.00000049</td>\n",
       "      <td>5.7</td>\n",
       "      <td>2011-08-18 00:35:00 UTC</td>\n",
       "      <td>-73.982738</td>\n",
       "      <td>40.761270</td>\n",
       "      <td>-73.991242</td>\n",
       "      <td>40.750562</td>\n",
       "      <td>2</td>\n",
       "      <td>1.389525</td>\n",
       "      <td>2011-08-17 20:35:00</td>\n",
       "      <td>20</td>\n",
       "      <td>pm</td>\n",
       "      <td>Wed</td>\n",
       "    </tr>\n",
       "    <tr>\n",
       "      <th>3</th>\n",
       "      <td>2012-04-21 04:30:42.0000001</td>\n",
       "      <td>7.7</td>\n",
       "      <td>2012-04-21 04:30:42 UTC</td>\n",
       "      <td>-73.987130</td>\n",
       "      <td>40.733143</td>\n",
       "      <td>-73.991567</td>\n",
       "      <td>40.758092</td>\n",
       "      <td>1</td>\n",
       "      <td>2.799270</td>\n",
       "      <td>2012-04-21 00:30:42</td>\n",
       "      <td>0</td>\n",
       "      <td>am</td>\n",
       "      <td>Sat</td>\n",
       "    </tr>\n",
       "    <tr>\n",
       "      <th>4</th>\n",
       "      <td>2010-03-09 07:51:00.000000135</td>\n",
       "      <td>5.3</td>\n",
       "      <td>2010-03-09 07:51:00 UTC</td>\n",
       "      <td>-73.968095</td>\n",
       "      <td>40.768008</td>\n",
       "      <td>-73.956655</td>\n",
       "      <td>40.783762</td>\n",
       "      <td>1</td>\n",
       "      <td>1.999157</td>\n",
       "      <td>2010-03-09 03:51:00</td>\n",
       "      <td>3</td>\n",
       "      <td>am</td>\n",
       "      <td>Tue</td>\n",
       "    </tr>\n",
       "  </tbody>\n",
       "</table>\n",
       "</div>"
      ],
      "text/plain": [
       "                             key  fare_amount          pickup_datetime  \\\n",
       "0    2009-06-15 17:26:21.0000001          4.5  2009-06-15 17:26:21 UTC   \n",
       "1    2010-01-05 16:52:16.0000002         16.9  2010-01-05 16:52:16 UTC   \n",
       "2   2011-08-18 00:35:00.00000049          5.7  2011-08-18 00:35:00 UTC   \n",
       "3    2012-04-21 04:30:42.0000001          7.7  2012-04-21 04:30:42 UTC   \n",
       "4  2010-03-09 07:51:00.000000135          5.3  2010-03-09 07:51:00 UTC   \n",
       "\n",
       "   pickup_longitude  pickup_latitude  dropoff_longitude  dropoff_latitude  \\\n",
       "0        -73.844311        40.721319         -73.841610         40.712278   \n",
       "1        -74.016048        40.711303         -73.979268         40.782004   \n",
       "2        -73.982738        40.761270         -73.991242         40.750562   \n",
       "3        -73.987130        40.733143         -73.991567         40.758092   \n",
       "4        -73.968095        40.768008         -73.956655         40.783762   \n",
       "\n",
       "   passenger_count   dist_km             EDTdate  Hour AMorPM Weekday  \n",
       "0                1  1.030764 2009-06-15 13:26:21    13     pm     Mon  \n",
       "1                1  8.450134 2010-01-05 12:52:16    12     pm     Tue  \n",
       "2                2  1.389525 2011-08-17 20:35:00    20     pm     Wed  \n",
       "3                1  2.799270 2012-04-21 00:30:42     0     am     Sat  \n",
       "4                1  1.999157 2010-03-09 03:51:00     3     am     Tue  "
      ]
     },
     "execution_count": 18,
     "metadata": {},
     "output_type": "execute_result"
    }
   ],
   "source": [
    "df_train.head()"
   ]
  },
  {
   "cell_type": "code",
   "execution_count": 19,
   "id": "fdaf9a5f-e7af-42f0-83d0-48b4f5736b30",
   "metadata": {},
   "outputs": [
    {
     "data": {
      "text/plain": [
       "Index(['key', 'fare_amount', 'pickup_datetime', 'pickup_longitude',\n",
       "       'pickup_latitude', 'dropoff_longitude', 'dropoff_latitude',\n",
       "       'passenger_count', 'dist_km', 'EDTdate', 'Hour', 'AMorPM', 'Weekday'],\n",
       "      dtype='object')"
      ]
     },
     "execution_count": 19,
     "metadata": {},
     "output_type": "execute_result"
    }
   ],
   "source": [
    "df_train.columns"
   ]
  },
  {
   "cell_type": "code",
   "execution_count": 20,
   "id": "71bc2886-8ebf-4cd8-a1c3-c5d1b9a324a8",
   "metadata": {},
   "outputs": [],
   "source": [
    "cat_cols = ['Hour', 'AMorPM', 'Weekday']\n",
    "cont_cols = ['pickup_latitude', 'pickup_longitude', 'dropoff_latitude', 'dropoff_longitude', 'passenger_count', 'dist_km']"
   ]
  },
  {
   "cell_type": "markdown",
   "id": "3a5152cd-71ff-4ec8-9cb2-19e458f00d68",
   "metadata": {},
   "source": [
    "### Label Encoding"
   ]
  },
  {
   "cell_type": "code",
   "execution_count": 21,
   "id": "9c161e91-6340-45ef-99db-ba4e4d4a0c61",
   "metadata": {},
   "outputs": [],
   "source": [
    "for col in df_train.columns:\n",
    "    if col in cat_cols:\n",
    "        df_train[col] = LabelEncoder().fit_transform(df_train[col])\n",
    "        df_train[col] = df_train[col].astype('category')"
   ]
  },
  {
   "cell_type": "markdown",
   "id": "25b539c2-0954-45c0-b26d-a152a8932b95",
   "metadata": {},
   "source": [
    "### Normalization"
   ]
  },
  {
   "cell_type": "code",
   "execution_count": 22,
   "id": "669d9c11-f91f-47ed-894b-aaafc3c5fc03",
   "metadata": {},
   "outputs": [],
   "source": [
    "def normalize(data, cont_columns):\n",
    "    means, stds = {}, {}\n",
    "    for n in cont_columns:\n",
    "        assert is_numeric_dtype(data[n]), (f\"\"\"Cannot normalize '{n}' column as it isn't numerical. Are you sure it doesn't belong in the categorical set of columns?\"\"\")\n",
    "        means[n], stds[n] = data[n].mean(), data[n].std()\n",
    "        data[n] = (data[n] - means[n]) / (1e-7 + stds[n])\n",
    "    return data"
   ]
  },
  {
   "cell_type": "code",
   "execution_count": 23,
   "id": "61dab927-cbad-4e19-b2bd-784a86d7fbeb",
   "metadata": {},
   "outputs": [],
   "source": [
    "def normalize_v2(input_data, cont_columns):\n",
    "    data = input_data.copy()\n",
    "    for col in cont_columns:\n",
    "        arr = data[col].to_numpy().reshape(-1, 1)\n",
    "        scaled_arr = MinMaxScaler(feature_range=(0, 1)).fit_transform(arr)  \n",
    "        data[col] = scaled_arr\n",
    "    return data"
   ]
  },
  {
   "cell_type": "code",
   "execution_count": 24,
   "id": "8a9a7d04-94b4-4028-a42f-4325b8857437",
   "metadata": {},
   "outputs": [],
   "source": [
    "columns = ['Hour', 'AMorPM', 'Weekday', 'pickup_latitude', 'pickup_longitude', 'dropoff_latitude', 'dropoff_longitude', 'passenger_count', 'dist_km']"
   ]
  },
  {
   "cell_type": "code",
   "execution_count": 25,
   "id": "6d1b9669-727e-4752-92cc-ec0ff1620cdd",
   "metadata": {},
   "outputs": [],
   "source": [
    "X = df_train[cont_cols]"
   ]
  },
  {
   "cell_type": "code",
   "execution_count": 26,
   "id": "fc663524-07d3-4d80-b0a1-d27bdd26c571",
   "metadata": {},
   "outputs": [],
   "source": [
    "y = df_train[target]"
   ]
  },
  {
   "cell_type": "code",
   "execution_count": 27,
   "id": "d4b195b7-857d-4b91-a4da-3d21b479cb8d",
   "metadata": {},
   "outputs": [
    {
     "data": {
      "text/html": [
       "<div>\n",
       "<style scoped>\n",
       "    .dataframe tbody tr th:only-of-type {\n",
       "        vertical-align: middle;\n",
       "    }\n",
       "\n",
       "    .dataframe tbody tr th {\n",
       "        vertical-align: top;\n",
       "    }\n",
       "\n",
       "    .dataframe thead th {\n",
       "        text-align: right;\n",
       "    }\n",
       "</style>\n",
       "<table border=\"1\" class=\"dataframe\">\n",
       "  <thead>\n",
       "    <tr style=\"text-align: right;\">\n",
       "      <th></th>\n",
       "      <th>pickup_latitude</th>\n",
       "      <th>pickup_longitude</th>\n",
       "      <th>dropoff_latitude</th>\n",
       "      <th>dropoff_longitude</th>\n",
       "      <th>passenger_count</th>\n",
       "      <th>dist_km</th>\n",
       "    </tr>\n",
       "  </thead>\n",
       "  <tbody>\n",
       "    <tr>\n",
       "      <th>0</th>\n",
       "      <td>40.721319</td>\n",
       "      <td>-73.844311</td>\n",
       "      <td>40.712278</td>\n",
       "      <td>-73.841610</td>\n",
       "      <td>1</td>\n",
       "      <td>1.030764</td>\n",
       "    </tr>\n",
       "    <tr>\n",
       "      <th>1</th>\n",
       "      <td>40.711303</td>\n",
       "      <td>-74.016048</td>\n",
       "      <td>40.782004</td>\n",
       "      <td>-73.979268</td>\n",
       "      <td>1</td>\n",
       "      <td>8.450134</td>\n",
       "    </tr>\n",
       "    <tr>\n",
       "      <th>2</th>\n",
       "      <td>40.761270</td>\n",
       "      <td>-73.982738</td>\n",
       "      <td>40.750562</td>\n",
       "      <td>-73.991242</td>\n",
       "      <td>2</td>\n",
       "      <td>1.389525</td>\n",
       "    </tr>\n",
       "    <tr>\n",
       "      <th>3</th>\n",
       "      <td>40.733143</td>\n",
       "      <td>-73.987130</td>\n",
       "      <td>40.758092</td>\n",
       "      <td>-73.991567</td>\n",
       "      <td>1</td>\n",
       "      <td>2.799270</td>\n",
       "    </tr>\n",
       "    <tr>\n",
       "      <th>4</th>\n",
       "      <td>40.768008</td>\n",
       "      <td>-73.968095</td>\n",
       "      <td>40.783762</td>\n",
       "      <td>-73.956655</td>\n",
       "      <td>1</td>\n",
       "      <td>1.999157</td>\n",
       "    </tr>\n",
       "  </tbody>\n",
       "</table>\n",
       "</div>"
      ],
      "text/plain": [
       "   pickup_latitude  pickup_longitude  dropoff_latitude  dropoff_longitude  \\\n",
       "0        40.721319        -73.844311         40.712278         -73.841610   \n",
       "1        40.711303        -74.016048         40.782004         -73.979268   \n",
       "2        40.761270        -73.982738         40.750562         -73.991242   \n",
       "3        40.733143        -73.987130         40.758092         -73.991567   \n",
       "4        40.768008        -73.968095         40.783762         -73.956655   \n",
       "\n",
       "   passenger_count   dist_km  \n",
       "0                1  1.030764  \n",
       "1                1  8.450134  \n",
       "2                2  1.389525  \n",
       "3                1  2.799270  \n",
       "4                1  1.999157  "
      ]
     },
     "execution_count": 27,
     "metadata": {},
     "output_type": "execute_result"
    }
   ],
   "source": [
    "X.head()"
   ]
  },
  {
   "cell_type": "code",
   "execution_count": 28,
   "id": "f2203b46-dc90-4c05-b62f-a8e773a3604f",
   "metadata": {},
   "outputs": [],
   "source": [
    "X = normalize_v2(X, cont_cols)"
   ]
  },
  {
   "cell_type": "code",
   "execution_count": 29,
   "id": "42909088-7d42-4a79-b68a-dfcfb7fb0144",
   "metadata": {},
   "outputs": [
    {
     "data": {
      "text/html": [
       "<div>\n",
       "<style scoped>\n",
       "    .dataframe tbody tr th:only-of-type {\n",
       "        vertical-align: middle;\n",
       "    }\n",
       "\n",
       "    .dataframe tbody tr th {\n",
       "        vertical-align: top;\n",
       "    }\n",
       "\n",
       "    .dataframe thead th {\n",
       "        text-align: right;\n",
       "    }\n",
       "</style>\n",
       "<table border=\"1\" class=\"dataframe\">\n",
       "  <thead>\n",
       "    <tr style=\"text-align: right;\">\n",
       "      <th></th>\n",
       "      <th>pickup_latitude</th>\n",
       "      <th>pickup_longitude</th>\n",
       "      <th>dropoff_latitude</th>\n",
       "      <th>dropoff_longitude</th>\n",
       "      <th>passenger_count</th>\n",
       "      <th>dist_km</th>\n",
       "    </tr>\n",
       "  </thead>\n",
       "  <tbody>\n",
       "    <tr>\n",
       "      <th>0</th>\n",
       "      <td>0.241488</td>\n",
       "      <td>0.852533</td>\n",
       "      <td>0.239685</td>\n",
       "      <td>0.086153</td>\n",
       "      <td>0.166667</td>\n",
       "      <td>0.000119</td>\n",
       "    </tr>\n",
       "    <tr>\n",
       "      <th>1</th>\n",
       "      <td>0.241467</td>\n",
       "      <td>0.852312</td>\n",
       "      <td>0.239830</td>\n",
       "      <td>0.085056</td>\n",
       "      <td>0.166667</td>\n",
       "      <td>0.000974</td>\n",
       "    </tr>\n",
       "    <tr>\n",
       "      <th>2</th>\n",
       "      <td>0.241573</td>\n",
       "      <td>0.852355</td>\n",
       "      <td>0.239765</td>\n",
       "      <td>0.084961</td>\n",
       "      <td>0.333333</td>\n",
       "      <td>0.000160</td>\n",
       "    </tr>\n",
       "    <tr>\n",
       "      <th>3</th>\n",
       "      <td>0.241513</td>\n",
       "      <td>0.852349</td>\n",
       "      <td>0.239780</td>\n",
       "      <td>0.084958</td>\n",
       "      <td>0.166667</td>\n",
       "      <td>0.000323</td>\n",
       "    </tr>\n",
       "    <tr>\n",
       "      <th>4</th>\n",
       "      <td>0.241587</td>\n",
       "      <td>0.852373</td>\n",
       "      <td>0.239834</td>\n",
       "      <td>0.085236</td>\n",
       "      <td>0.166667</td>\n",
       "      <td>0.000230</td>\n",
       "    </tr>\n",
       "  </tbody>\n",
       "</table>\n",
       "</div>"
      ],
      "text/plain": [
       "   pickup_latitude  pickup_longitude  dropoff_latitude  dropoff_longitude  \\\n",
       "0         0.241488          0.852533          0.239685           0.086153   \n",
       "1         0.241467          0.852312          0.239830           0.085056   \n",
       "2         0.241573          0.852355          0.239765           0.084961   \n",
       "3         0.241513          0.852349          0.239780           0.084958   \n",
       "4         0.241587          0.852373          0.239834           0.085236   \n",
       "\n",
       "   passenger_count   dist_km  \n",
       "0         0.166667  0.000119  \n",
       "1         0.166667  0.000974  \n",
       "2         0.333333  0.000160  \n",
       "3         0.166667  0.000323  \n",
       "4         0.166667  0.000230  "
      ]
     },
     "execution_count": 29,
     "metadata": {},
     "output_type": "execute_result"
    }
   ],
   "source": [
    "X.head()"
   ]
  },
  {
   "cell_type": "code",
   "execution_count": 113,
   "id": "0a3af33f-fd34-4f68-8671-1fcd3e470545",
   "metadata": {},
   "outputs": [
    {
     "data": {
      "text/plain": [
       "0     4.5\n",
       "1    16.9\n",
       "2     5.7\n",
       "3     7.7\n",
       "4     5.3\n",
       "Name: fare_amount, dtype: float64"
      ]
     },
     "execution_count": 113,
     "metadata": {},
     "output_type": "execute_result"
    }
   ],
   "source": [
    "y.head()"
   ]
  },
  {
   "cell_type": "code",
   "execution_count": 30,
   "id": "234a1456-87b9-4bc3-8abb-b4a0715fe003",
   "metadata": {},
   "outputs": [
    {
     "data": {
      "text/plain": [
       "pickup_latitude      0\n",
       "pickup_longitude     0\n",
       "dropoff_latitude     0\n",
       "dropoff_longitude    0\n",
       "passenger_count      0\n",
       "dist_km              0\n",
       "dtype: int64"
      ]
     },
     "execution_count": 30,
     "metadata": {},
     "output_type": "execute_result"
    }
   ],
   "source": [
    "X.isnull().sum()"
   ]
  },
  {
   "cell_type": "code",
   "execution_count": 31,
   "id": "48001aac-9227-42ca-aaa9-0232b1f9b9e5",
   "metadata": {},
   "outputs": [],
   "source": [
    "X_train, X_val, y_train, y_val = train_test_split(X, y, test_size=0.20, random_state=42, shuffle=True) "
   ]
  },
  {
   "cell_type": "code",
   "execution_count": 32,
   "id": "0b4cf56a-264c-44d3-96b1-a54526d985e2",
   "metadata": {},
   "outputs": [
    {
     "data": {
      "text/html": [
       "<div>\n",
       "<style scoped>\n",
       "    .dataframe tbody tr th:only-of-type {\n",
       "        vertical-align: middle;\n",
       "    }\n",
       "\n",
       "    .dataframe tbody tr th {\n",
       "        vertical-align: top;\n",
       "    }\n",
       "\n",
       "    .dataframe thead th {\n",
       "        text-align: right;\n",
       "    }\n",
       "</style>\n",
       "<table border=\"1\" class=\"dataframe\">\n",
       "  <thead>\n",
       "    <tr style=\"text-align: right;\">\n",
       "      <th></th>\n",
       "      <th>pickup_latitude</th>\n",
       "      <th>pickup_longitude</th>\n",
       "      <th>dropoff_latitude</th>\n",
       "      <th>dropoff_longitude</th>\n",
       "      <th>passenger_count</th>\n",
       "      <th>dist_km</th>\n",
       "    </tr>\n",
       "  </thead>\n",
       "  <tbody>\n",
       "    <tr>\n",
       "      <th>75220</th>\n",
       "      <td>0.241379</td>\n",
       "      <td>0.852350</td>\n",
       "      <td>0.239607</td>\n",
       "      <td>0.084820</td>\n",
       "      <td>0.166667</td>\n",
       "      <td>0.000233</td>\n",
       "    </tr>\n",
       "    <tr>\n",
       "      <th>48955</th>\n",
       "      <td>0.241607</td>\n",
       "      <td>0.852387</td>\n",
       "      <td>0.239450</td>\n",
       "      <td>0.085135</td>\n",
       "      <td>0.166667</td>\n",
       "      <td>0.002282</td>\n",
       "    </tr>\n",
       "    <tr>\n",
       "      <th>44966</th>\n",
       "      <td>0.241625</td>\n",
       "      <td>0.852360</td>\n",
       "      <td>0.239808</td>\n",
       "      <td>0.085030</td>\n",
       "      <td>0.166667</td>\n",
       "      <td>0.000192</td>\n",
       "    </tr>\n",
       "    <tr>\n",
       "      <th>13568</th>\n",
       "      <td>0.155776</td>\n",
       "      <td>0.947529</td>\n",
       "      <td>0.154624</td>\n",
       "      <td>0.674507</td>\n",
       "      <td>0.166667</td>\n",
       "      <td>0.000000</td>\n",
       "    </tr>\n",
       "    <tr>\n",
       "      <th>92727</th>\n",
       "      <td>0.241570</td>\n",
       "      <td>0.852350</td>\n",
       "      <td>0.239827</td>\n",
       "      <td>0.085108</td>\n",
       "      <td>0.166667</td>\n",
       "      <td>0.000294</td>\n",
       "    </tr>\n",
       "  </tbody>\n",
       "</table>\n",
       "</div>"
      ],
      "text/plain": [
       "       pickup_latitude  pickup_longitude  dropoff_latitude  dropoff_longitude  \\\n",
       "75220         0.241379          0.852350          0.239607           0.084820   \n",
       "48955         0.241607          0.852387          0.239450           0.085135   \n",
       "44966         0.241625          0.852360          0.239808           0.085030   \n",
       "13568         0.155776          0.947529          0.154624           0.674507   \n",
       "92727         0.241570          0.852350          0.239827           0.085108   \n",
       "\n",
       "       passenger_count   dist_km  \n",
       "75220         0.166667  0.000233  \n",
       "48955         0.166667  0.002282  \n",
       "44966         0.166667  0.000192  \n",
       "13568         0.166667  0.000000  \n",
       "92727         0.166667  0.000294  "
      ]
     },
     "execution_count": 32,
     "metadata": {},
     "output_type": "execute_result"
    }
   ],
   "source": [
    "X_train.head()"
   ]
  },
  {
   "cell_type": "markdown",
   "id": "819e5491-0d8a-4fb7-88dd-c612aa200100",
   "metadata": {
    "tags": []
   },
   "source": [
    "### Model"
   ]
  },
  {
   "cell_type": "code",
   "execution_count": 33,
   "id": "179e1614-99e8-4b9f-992f-4265d46ce384",
   "metadata": {},
   "outputs": [],
   "source": [
    "ts_X_train = torch.tensor(X_train.values.astype(np.float32), dtype=torch.float32) \n",
    "ts_y_train = torch.tensor(y_train.values.astype(np.float32), dtype=torch.float32)"
   ]
  },
  {
   "cell_type": "code",
   "execution_count": 34,
   "id": "9eb0d903-3f38-4b55-b282-b87eef7104d3",
   "metadata": {},
   "outputs": [],
   "source": [
    "ts_X_val = torch.tensor(X_val.values.astype(np.float32), dtype=torch.float32) \n",
    "ts_y_val = torch.tensor(y_val.values.astype(np.float32), dtype=torch.float32)"
   ]
  },
  {
   "cell_type": "code",
   "execution_count": 35,
   "id": "3f7b05f0-349f-442e-81bc-a1e6503ec6ac",
   "metadata": {},
   "outputs": [],
   "source": [
    "ds_train = TensorDataset(ts_X_train, ts_y_train)"
   ]
  },
  {
   "cell_type": "code",
   "execution_count": 36,
   "id": "ec7880a1-94e4-4c43-812e-a1f721963192",
   "metadata": {},
   "outputs": [],
   "source": [
    "ds_val = TensorDataset(ts_X_val, ts_y_val)"
   ]
  },
  {
   "cell_type": "code",
   "execution_count": 37,
   "id": "1b7ac55a-e7f4-4d1c-a492-42be5e3a7591",
   "metadata": {},
   "outputs": [
    {
     "data": {
      "text/plain": [
       "6"
      ]
     },
     "execution_count": 37,
     "metadata": {},
     "output_type": "execute_result"
    }
   ],
   "source": [
    "input_size = len(ts_X_train[0])\n",
    "input_size"
   ]
  },
  {
   "cell_type": "code",
   "execution_count": 38,
   "id": "801a748a-8f9e-4abd-bcab-f13a94e53655",
   "metadata": {},
   "outputs": [
    {
     "data": {
      "text/plain": [
       "80000"
      ]
     },
     "execution_count": 38,
     "metadata": {},
     "output_type": "execute_result"
    }
   ],
   "source": [
    "len(ts_X_train)"
   ]
  },
  {
   "cell_type": "code",
   "execution_count": 39,
   "id": "b4605889-86a5-44f7-97f7-8c406fdb2f27",
   "metadata": {},
   "outputs": [
    {
     "data": {
      "text/plain": [
       "20000"
      ]
     },
     "execution_count": 39,
     "metadata": {},
     "output_type": "execute_result"
    }
   ],
   "source": [
    "len(ts_X_val)"
   ]
  },
  {
   "cell_type": "code",
   "execution_count": 40,
   "id": "6814cd94-4eae-456d-91da-b73c250f6d0d",
   "metadata": {},
   "outputs": [],
   "source": [
    "batch_size = 32"
   ]
  },
  {
   "cell_type": "code",
   "execution_count": 41,
   "id": "3ba1765a-e953-45c7-8e10-f098b58c3318",
   "metadata": {},
   "outputs": [],
   "source": [
    "mean, std = (0.5,), (0.5,)\n",
    "transform = transforms.Compose([transforms.ToTensor(),\n",
    "                                transforms.Normalize(mean, std)\n",
    "                               ])"
   ]
  },
  {
   "cell_type": "code",
   "execution_count": 42,
   "id": "27d2c73f-608e-4040-98c3-a97706b9dc88",
   "metadata": {},
   "outputs": [],
   "source": [
    "dl_train = DataLoader(dataset=ds_train, batch_size=batch_size, shuffle=True, num_workers=1)"
   ]
  },
  {
   "cell_type": "code",
   "execution_count": 43,
   "id": "023301c5-2fae-4968-b652-f5f6a2bab7ab",
   "metadata": {},
   "outputs": [],
   "source": [
    "dl_val = DataLoader(dataset=ds_val, batch_size=batch_size, shuffle=False, num_workers=1)"
   ]
  },
  {
   "cell_type": "code",
   "execution_count": null,
   "id": "4973f6cb-c274-42a4-b0af-83074208e215",
   "metadata": {},
   "outputs": [],
   "source": []
  },
  {
   "cell_type": "markdown",
   "id": "2f355192-3503-4ec3-b1a2-5f5534fc3b5a",
   "metadata": {
    "tags": []
   },
   "source": [
    "### PyTorch"
   ]
  },
  {
   "cell_type": "code",
   "execution_count": 82,
   "id": "e9185db4-a525-4fb8-b32b-82494522440c",
   "metadata": {},
   "outputs": [],
   "source": [
    "class MLP(nn.Module):\n",
    "    '''\n",
    "    Multilayer Perceptron.\n",
    "    '''\n",
    "    def __init__(self, input_size):\n",
    "        super().__init__()\n",
    "        self.layers = nn.Sequential(\n",
    "            nn.Linear(input_size, 64),\n",
    "            nn.ReLU(),\n",
    "            nn.Linear(64, 32),\n",
    "            nn.ReLU(),\n",
    "            nn.Linear(32, 1)\n",
    "        )\n",
    "\n",
    "\n",
    "    def forward(self, x):\n",
    "        '''Forward pass'''\n",
    "        # x = F.normalize(x, dim = 0)\n",
    "        return self.layers(x)"
   ]
  },
  {
   "cell_type": "code",
   "execution_count": 83,
   "id": "82036106-d296-466d-81ce-4f858c682d3e",
   "metadata": {},
   "outputs": [],
   "source": [
    "model = MLP(input_size=input_size).to(device)"
   ]
  },
  {
   "cell_type": "code",
   "execution_count": 84,
   "id": "d661c112-2d53-43ce-a2f6-4e1772884bf0",
   "metadata": {},
   "outputs": [
    {
     "data": {
      "text/plain": [
       "6"
      ]
     },
     "execution_count": 84,
     "metadata": {},
     "output_type": "execute_result"
    }
   ],
   "source": [
    "input_size"
   ]
  },
  {
   "cell_type": "code",
   "execution_count": 85,
   "id": "45e8abd5-7654-4030-977c-0fcab9a5fdf4",
   "metadata": {},
   "outputs": [
    {
     "name": "stdout",
     "output_type": "stream",
     "text": [
      "MLP(\n",
      "  (layers): Sequential(\n",
      "    (0): Linear(in_features=6, out_features=64, bias=True)\n",
      "    (1): ReLU()\n",
      "    (2): Linear(in_features=64, out_features=32, bias=True)\n",
      "    (3): ReLU()\n",
      "    (4): Linear(in_features=32, out_features=1, bias=True)\n",
      "  )\n",
      ")\n"
     ]
    }
   ],
   "source": [
    "print(model)"
   ]
  },
  {
   "cell_type": "code",
   "execution_count": 86,
   "id": "5b2e7faf-6e77-4bd5-baf4-5114fb60c13c",
   "metadata": {},
   "outputs": [
    {
     "name": "stdout",
     "output_type": "stream",
     "text": [
      "----------------------------------------------------------------\n",
      "        Layer (type)               Output Shape         Param #\n",
      "================================================================\n",
      "            Linear-1                [-1, 1, 64]             448\n",
      "              ReLU-2                [-1, 1, 64]               0\n",
      "            Linear-3                [-1, 1, 32]           2,080\n",
      "              ReLU-4                [-1, 1, 32]               0\n",
      "            Linear-5                 [-1, 1, 1]              33\n",
      "================================================================\n",
      "Total params: 2,561\n",
      "Trainable params: 2,561\n",
      "Non-trainable params: 0\n",
      "----------------------------------------------------------------\n",
      "Input size (MB): 0.00\n",
      "Forward/backward pass size (MB): 0.00\n",
      "Params size (MB): 0.01\n",
      "Estimated Total Size (MB): 0.01\n",
      "----------------------------------------------------------------\n"
     ]
    }
   ],
   "source": [
    "summary(model, (1, input_size))"
   ]
  },
  {
   "cell_type": "code",
   "execution_count": 87,
   "id": "0110d739-320b-4519-9d37-0aeec26108f7",
   "metadata": {},
   "outputs": [],
   "source": [
    "loss_function = nn.L1Loss()"
   ]
  },
  {
   "cell_type": "code",
   "execution_count": 88,
   "id": "5af492fa-9a8a-4ae3-b3fe-85f00a4b1f7b",
   "metadata": {},
   "outputs": [],
   "source": [
    "optimizer = torch.optim.Adam(model.parameters(), lr=1e-4)"
   ]
  },
  {
   "cell_type": "code",
   "execution_count": 94,
   "id": "a707753b-b7f8-4111-84e7-2f369f161ae6",
   "metadata": {},
   "outputs": [],
   "source": [
    "def train_loop(model, data_loader, loss_function, optimizer, n_epochs, device):\n",
    "\n",
    "    history_loss = []\n",
    "    \n",
    "    # Run the training loop\n",
    "    for epoch in range(n_epochs): # 5 epochs at maximum\n",
    "        print(f'Starting epoch {epoch + 1}')\n",
    "    \n",
    "        # Set current loss value\n",
    "        current_loss = 0.0\n",
    "    \n",
    "        # Iterate over the DataLoader for training data\n",
    "        for i, data in enumerate(data_loader, 0):\n",
    "            # Get inputs\n",
    "            inputs, targets = data\n",
    "            inputs = inputs.to(device)\n",
    "            targets = targets.to(device)\n",
    "\n",
    "            # Zero the gradients\n",
    "            optimizer.zero_grad()\n",
    "\n",
    "            # Perform forward pass\n",
    "            outputs = model(inputs)\n",
    "\n",
    "            # Compute loss\n",
    "            loss = loss_function(outputs, targets.unsqueeze(-1))\n",
    "\n",
    "            # Perform backward pass\n",
    "            loss.backward()\n",
    "\n",
    "            # Perform optimization\n",
    "            optimizer.step()\n",
    "\n",
    "            # Print statistics\n",
    "            current_loss += loss.item()\n",
    "            \n",
    "            if i % 500 == 0:\n",
    "                print('Loss after mini-batch %5d: %.3f' % (i + 1, current_loss / 500))\n",
    "                current_loss = 0.0\n",
    "        \n",
    "    # Process is complete.\n",
    "    print('Training process has finished.')\n",
    "    \n",
    "    return model, history_loss"
   ]
  },
  {
   "cell_type": "code",
   "execution_count": 95,
   "id": "5bba3e50-64f0-4ccf-a356-0115c624642a",
   "metadata": {},
   "outputs": [
    {
     "name": "stdout",
     "output_type": "stream",
     "text": [
      "Starting epoch 1\n",
      "Loss after mini-batch     1: 0.008\n",
      "Loss after mini-batch   501: 5.328\n",
      "Loss after mini-batch  1001: 5.558\n",
      "Loss after mini-batch  1501: 5.262\n",
      "Loss after mini-batch  2001: 5.428\n",
      "Starting epoch 2\n",
      "Loss after mini-batch     1: 0.013\n",
      "Loss after mini-batch   501: 5.394\n",
      "Loss after mini-batch  1001: 5.431\n",
      "Loss after mini-batch  1501: 5.398\n",
      "Loss after mini-batch  2001: 5.431\n",
      "Starting epoch 3\n",
      "Loss after mini-batch     1: 0.012\n",
      "Loss after mini-batch   501: 5.489\n",
      "Loss after mini-batch  1001: 5.364\n",
      "Loss after mini-batch  1501: 5.429\n",
      "Loss after mini-batch  2001: 5.408\n",
      "Starting epoch 4\n",
      "Loss after mini-batch     1: 0.014\n",
      "Loss after mini-batch   501: 5.432\n",
      "Loss after mini-batch  1001: 5.349\n",
      "Loss after mini-batch  1501: 5.416\n",
      "Loss after mini-batch  2001: 5.365\n",
      "Starting epoch 5\n",
      "Loss after mini-batch     1: 0.010\n",
      "Loss after mini-batch   501: 5.398\n",
      "Loss after mini-batch  1001: 5.411\n",
      "Loss after mini-batch  1501: 5.379\n",
      "Loss after mini-batch  2001: 5.365\n",
      "Training process has finished.\n"
     ]
    }
   ],
   "source": [
    "model_ft, history_loss = train_loop(model=model, data_loader=dl_train, loss_function=loss_function, \n",
    "                                    optimizer=optimizer, n_epochs=5, device=device)"
   ]
  },
  {
   "cell_type": "code",
   "execution_count": 108,
   "id": "c190725e-06d8-4ecb-b3cd-64f02978bca1",
   "metadata": {},
   "outputs": [
    {
     "data": {
      "text/plain": [
       "[Sequential(\n",
       "   (0): Linear(in_features=6, out_features=64, bias=True)\n",
       "   (1): ReLU()\n",
       "   (2): Linear(in_features=64, out_features=32, bias=True)\n",
       "   (3): ReLU()\n",
       "   (4): Linear(in_features=32, out_features=1, bias=True)\n",
       " )]"
      ]
     },
     "execution_count": 108,
     "metadata": {},
     "output_type": "execute_result"
    }
   ],
   "source": [
    "list(model_ft.children())"
   ]
  },
  {
   "cell_type": "code",
   "execution_count": 126,
   "id": "7338cd67-c76f-4305-89f5-c09705eb0954",
   "metadata": {},
   "outputs": [],
   "source": [
    "feature_extractor = torch.nn.Sequential(*list(model_ft.children())[:-1])"
   ]
  },
  {
   "cell_type": "code",
   "execution_count": 127,
   "id": "ac5b7de5-ed9f-4f16-9391-3f053fbdde63",
   "metadata": {},
   "outputs": [
    {
     "data": {
      "text/plain": [
       "tensor([2.4157e-01, 8.5235e-01, 2.3983e-01, 8.5108e-02, 1.6667e-01, 2.9400e-04],\n",
       "       device='cuda:0')"
      ]
     },
     "execution_count": 127,
     "metadata": {},
     "output_type": "execute_result"
    }
   ],
   "source": [
    "x = torch.tensor([0.241570, 0.852350, 0.239827, 0.085108, 0.166667, 0.000294]).to(device)\n",
    "x"
   ]
  },
  {
   "cell_type": "code",
   "execution_count": 128,
   "id": "a86ccc6b-65c3-4291-808e-205872a7ff45",
   "metadata": {},
   "outputs": [
    {
     "data": {
      "text/plain": [
       "tensor([2.4157e-01, 8.5235e-01, 2.3983e-01, 8.5108e-02, 1.6667e-01, 2.9400e-04],\n",
       "       device='cuda:0')"
      ]
     },
     "execution_count": 128,
     "metadata": {},
     "output_type": "execute_result"
    }
   ],
   "source": [
    "output = feature_extractor(x)\n",
    "output"
   ]
  },
  {
   "cell_type": "code",
   "execution_count": 129,
   "id": "6ccb7f6f-4c23-4dfa-a768-eba446d738a2",
   "metadata": {},
   "outputs": [
    {
     "data": {
      "text/plain": [
       "tensor([8.4843], device='cuda:0', grad_fn=<AddBackward0>)"
      ]
     },
     "execution_count": 129,
     "metadata": {},
     "output_type": "execute_result"
    }
   ],
   "source": [
    "model(x)"
   ]
  },
  {
   "cell_type": "code",
   "execution_count": null,
   "id": "875a315b-3bc7-44b9-9c5d-9485f150da16",
   "metadata": {},
   "outputs": [],
   "source": []
  },
  {
   "cell_type": "code",
   "execution_count": null,
   "id": "f7aaf418-11fe-4af5-86b3-f69bc9f86d79",
   "metadata": {},
   "outputs": [],
   "source": []
  }
 ],
 "metadata": {
  "kernelspec": {
   "display_name": "Python 3",
   "language": "python",
   "name": "python3"
  },
  "language_info": {
   "codemirror_mode": {
    "name": "ipython",
    "version": 3
   },
   "file_extension": ".py",
   "mimetype": "text/x-python",
   "name": "python",
   "nbconvert_exporter": "python",
   "pygments_lexer": "ipython3",
   "version": "3.6.9"
  }
 },
 "nbformat": 4,
 "nbformat_minor": 5
}
