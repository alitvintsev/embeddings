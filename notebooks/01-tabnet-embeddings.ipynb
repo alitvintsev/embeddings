{
 "cells": [
  {
   "cell_type": "markdown",
   "id": "bac0405c-eac3-499a-accc-6c6c5e4a2a13",
   "metadata": {},
   "source": [
    "# Embeddings for Tabular Data"
   ]
  },
  {
   "cell_type": "code",
   "execution_count": 1,
   "id": "5c6cb912-01d8-4e64-a00b-30593355ceea",
   "metadata": {},
   "outputs": [
    {
     "name": "stdout",
     "output_type": "stream",
     "text": [
      "Wed Jan 25 08:59:19 2023       \n",
      "+-----------------------------------------------------------------------------+\n",
      "| NVIDIA-SMI 470.103.01   Driver Version: 470.103.01   CUDA Version: 11.4     |\n",
      "|-------------------------------+----------------------+----------------------+\n",
      "| GPU  Name        Persistence-M| Bus-Id        Disp.A | Volatile Uncorr. ECC |\n",
      "| Fan  Temp  Perf  Pwr:Usage/Cap|         Memory-Usage | GPU-Util  Compute M. |\n",
      "|                               |                      |               MIG M. |\n",
      "|===============================+======================+======================|\n",
      "|   0  Tesla T4            On   | 00000000:00:06.0 Off |                    0 |\n",
      "| N/A   34C    P8     9W /  70W |      0MiB / 15109MiB |      0%      Default |\n",
      "|                               |                      |                  N/A |\n",
      "+-------------------------------+----------------------+----------------------+\n",
      "                                                                               \n",
      "+-----------------------------------------------------------------------------+\n",
      "| Processes:                                                                  |\n",
      "|  GPU   GI   CI        PID   Type   Process name                  GPU Memory |\n",
      "|        ID   ID                                                   Usage      |\n",
      "|=============================================================================|\n",
      "|  No running processes found                                                 |\n",
      "+-----------------------------------------------------------------------------+\n"
     ]
    }
   ],
   "source": [
    "! nvidia-smi"
   ]
  },
  {
   "cell_type": "code",
   "execution_count": 2,
   "id": "91fc08c2-20f4-498b-b871-b4e50b296b21",
   "metadata": {},
   "outputs": [
    {
     "name": "stdout",
     "output_type": "stream",
     "text": [
      "Requirement already satisfied: pytorch-tabnet in /usr/local/lib/python3.6/dist-packages (4.0)\n",
      "Requirement already satisfied: scikit_learn>0.21 in /usr/local/lib/python3.6/dist-packages (from pytorch-tabnet) (0.24.2)\n",
      "Requirement already satisfied: numpy<2.0,>=1.17 in /usr/local/lib/python3.6/dist-packages (from pytorch-tabnet) (1.19.5)\n",
      "Requirement already satisfied: tqdm<5.0,>=4.36 in /usr/local/lib/python3.6/dist-packages (from pytorch-tabnet) (4.63.0)\n",
      "Requirement already satisfied: scipy>1.4 in /usr/local/lib/python3.6/dist-packages (from pytorch-tabnet) (1.5.4)\n",
      "Requirement already satisfied: torch<2.0,>=1.2 in /usr/local/lib/python3.6/dist-packages (from pytorch-tabnet) (1.10.2)\n",
      "Requirement already satisfied: joblib>=0.11 in /usr/local/lib/python3.6/dist-packages (from scikit_learn>0.21->pytorch-tabnet) (1.1.0)\n",
      "Requirement already satisfied: threadpoolctl>=2.0.0 in /usr/local/lib/python3.6/dist-packages (from scikit_learn>0.21->pytorch-tabnet) (3.1.0)\n",
      "Requirement already satisfied: dataclasses in /usr/local/lib/python3.6/dist-packages (from torch<2.0,>=1.2->pytorch-tabnet) (0.8)\n",
      "Requirement already satisfied: typing-extensions in /usr/local/lib/python3.6/dist-packages (from torch<2.0,>=1.2->pytorch-tabnet) (3.7.4.3)\n",
      "Requirement already satisfied: importlib-resources in /usr/local/lib/python3.6/dist-packages (from tqdm<5.0,>=4.36->pytorch-tabnet) (5.4.0)\n",
      "Requirement already satisfied: zipp>=3.1.0 in /usr/local/lib/python3.6/dist-packages (from importlib-resources->tqdm<5.0,>=4.36->pytorch-tabnet) (3.6.0)\n",
      "\u001b[33mWARNING: Running pip as the 'root' user can result in broken permissions and conflicting behaviour with the system package manager. It is recommended to use a virtual environment instead: https://pip.pypa.io/warnings/venv\u001b[0m\n"
     ]
    }
   ],
   "source": [
    "! pip install pytorch-tabnet"
   ]
  },
  {
   "cell_type": "markdown",
   "id": "d1904110-6594-4747-9bad-cd0d2fa06f60",
   "metadata": {},
   "source": [
    "### Import Libs"
   ]
  },
  {
   "cell_type": "code",
   "execution_count": 3,
   "id": "f08e9585-27d0-4108-aafd-05a70a63bf4c",
   "metadata": {},
   "outputs": [],
   "source": [
    "import warnings\n",
    "import os\n",
    "import pandas as pd\n",
    "import numpy as np\n",
    "import matplotlib.pyplot as plt\n",
    "import seaborn as sns\n",
    "import numpy.matlib\n",
    "\n",
    "import matplotlib.gridspec as gridspec\n",
    "from matplotlib.ticker import MaxNLocator\n",
    "\n",
    "from sklearn.preprocessing import MinMaxScaler, LabelEncoder, StandardScaler\n",
    "from sklearn.metrics import r2_score, mean_squared_error\n",
    "from sklearn.model_selection import KFold, train_test_split\n",
    "\n",
    "import torch\n",
    "from pytorch_tabnet.tab_model import TabNetClassifier, TabNetRegressor\n",
    "from pytorch_tabnet.augmentations import RegressionSMOTE"
   ]
  },
  {
   "cell_type": "markdown",
   "id": "32ad04ae-e213-4514-9393-31fa2fabc14e",
   "metadata": {},
   "source": [
    "### Options"
   ]
  },
  {
   "cell_type": "code",
   "execution_count": 4,
   "id": "b21389f2-6d77-4907-b6bc-7cb96d065455",
   "metadata": {},
   "outputs": [],
   "source": [
    "warnings.filterwarnings(\"ignore\")"
   ]
  },
  {
   "cell_type": "code",
   "execution_count": null,
   "id": "4ce5dc2d-c81f-4fac-bbaa-a37e911f0f77",
   "metadata": {},
   "outputs": [],
   "source": []
  },
  {
   "cell_type": "markdown",
   "id": "5baa6d87-8f80-46fb-a512-f62c48d8f622",
   "metadata": {},
   "source": [
    "### Load Dataset"
   ]
  },
  {
   "cell_type": "code",
   "execution_count": 5,
   "id": "b2adb593-28f6-4b23-ae22-8ed1868542a7",
   "metadata": {},
   "outputs": [],
   "source": [
    "# ! kaggle datasets download -d camnugent/california-housing-prices"
   ]
  },
  {
   "cell_type": "code",
   "execution_count": 6,
   "id": "4a47cb20-3203-4e25-b708-28ed6d73cc01",
   "metadata": {},
   "outputs": [],
   "source": [
    "df = pd.read_csv('../data/california-housing-prices.zip')"
   ]
  },
  {
   "cell_type": "code",
   "execution_count": 7,
   "id": "2567fe6c-0928-46ec-a9f3-f845e47e96f8",
   "metadata": {},
   "outputs": [],
   "source": [
    "def housing_data_clean(input_df):\n",
    "\tinput_df['rooms_per_household'] = input_df['total_rooms']/input_df['households']\n",
    "\tinput_df['bedrooms_per_household'] = input_df['total_bedrooms']/input_df['households']\n",
    "\tinput_df['bedrooms_per_room'] = input_df['total_bedrooms']/input_df['total_rooms']\n",
    "\tinput_df['population_per_household'] = input_df['population']/input_df['households']\n",
    "\tinput_df = input_df.drop(['total_bedrooms','total_rooms'], axis=1)\n",
    "\treturn input_df"
   ]
  },
  {
   "cell_type": "code",
   "execution_count": 8,
   "id": "fb4ebcee-a136-415d-bc91-480938972aaa",
   "metadata": {},
   "outputs": [],
   "source": [
    "df = housing_data_clean(df)"
   ]
  },
  {
   "cell_type": "code",
   "execution_count": 9,
   "id": "033eda9c-8f4d-46e2-9565-9d7f0c0740e2",
   "metadata": {},
   "outputs": [],
   "source": [
    "# Divide by 1.5 to limit the number of income categories\n",
    "df[\"income_cat\"] = np.ceil(df[\"median_income\"] / 1.5)\n",
    "# Label those above 5 as 5\n",
    "df[\"income_cat\"].where(df[\"income_cat\"] < 5, 5.0, inplace=True)\n",
    "#this change below is because column names can't be passed to xgboost with a < symbol\n",
    "df['ocean_proximity'][df['ocean_proximity'] == '<1H OCEAN'] = 'LessThan1h'"
   ]
  },
  {
   "cell_type": "code",
   "execution_count": 10,
   "id": "8a46fe08-79dd-4d9c-ba16-806e950bac35",
   "metadata": {},
   "outputs": [
    {
     "data": {
      "text/html": [
       "<div>\n",
       "<style scoped>\n",
       "    .dataframe tbody tr th:only-of-type {\n",
       "        vertical-align: middle;\n",
       "    }\n",
       "\n",
       "    .dataframe tbody tr th {\n",
       "        vertical-align: top;\n",
       "    }\n",
       "\n",
       "    .dataframe thead th {\n",
       "        text-align: right;\n",
       "    }\n",
       "</style>\n",
       "<table border=\"1\" class=\"dataframe\">\n",
       "  <thead>\n",
       "    <tr style=\"text-align: right;\">\n",
       "      <th></th>\n",
       "      <th>longitude</th>\n",
       "      <th>latitude</th>\n",
       "      <th>housing_median_age</th>\n",
       "      <th>population</th>\n",
       "      <th>households</th>\n",
       "      <th>median_income</th>\n",
       "      <th>median_house_value</th>\n",
       "      <th>ocean_proximity</th>\n",
       "      <th>rooms_per_household</th>\n",
       "      <th>bedrooms_per_household</th>\n",
       "      <th>bedrooms_per_room</th>\n",
       "      <th>population_per_household</th>\n",
       "      <th>income_cat</th>\n",
       "    </tr>\n",
       "  </thead>\n",
       "  <tbody>\n",
       "    <tr>\n",
       "      <th>0</th>\n",
       "      <td>-122.23</td>\n",
       "      <td>37.88</td>\n",
       "      <td>41.0</td>\n",
       "      <td>322.0</td>\n",
       "      <td>126.0</td>\n",
       "      <td>8.3252</td>\n",
       "      <td>452600.0</td>\n",
       "      <td>NEAR BAY</td>\n",
       "      <td>6.984127</td>\n",
       "      <td>1.023810</td>\n",
       "      <td>0.146591</td>\n",
       "      <td>2.555556</td>\n",
       "      <td>5.0</td>\n",
       "    </tr>\n",
       "    <tr>\n",
       "      <th>1</th>\n",
       "      <td>-122.22</td>\n",
       "      <td>37.86</td>\n",
       "      <td>21.0</td>\n",
       "      <td>2401.0</td>\n",
       "      <td>1138.0</td>\n",
       "      <td>8.3014</td>\n",
       "      <td>358500.0</td>\n",
       "      <td>NEAR BAY</td>\n",
       "      <td>6.238137</td>\n",
       "      <td>0.971880</td>\n",
       "      <td>0.155797</td>\n",
       "      <td>2.109842</td>\n",
       "      <td>5.0</td>\n",
       "    </tr>\n",
       "    <tr>\n",
       "      <th>2</th>\n",
       "      <td>-122.24</td>\n",
       "      <td>37.85</td>\n",
       "      <td>52.0</td>\n",
       "      <td>496.0</td>\n",
       "      <td>177.0</td>\n",
       "      <td>7.2574</td>\n",
       "      <td>352100.0</td>\n",
       "      <td>NEAR BAY</td>\n",
       "      <td>8.288136</td>\n",
       "      <td>1.073446</td>\n",
       "      <td>0.129516</td>\n",
       "      <td>2.802260</td>\n",
       "      <td>5.0</td>\n",
       "    </tr>\n",
       "    <tr>\n",
       "      <th>3</th>\n",
       "      <td>-122.25</td>\n",
       "      <td>37.85</td>\n",
       "      <td>52.0</td>\n",
       "      <td>558.0</td>\n",
       "      <td>219.0</td>\n",
       "      <td>5.6431</td>\n",
       "      <td>341300.0</td>\n",
       "      <td>NEAR BAY</td>\n",
       "      <td>5.817352</td>\n",
       "      <td>1.073059</td>\n",
       "      <td>0.184458</td>\n",
       "      <td>2.547945</td>\n",
       "      <td>4.0</td>\n",
       "    </tr>\n",
       "    <tr>\n",
       "      <th>4</th>\n",
       "      <td>-122.25</td>\n",
       "      <td>37.85</td>\n",
       "      <td>52.0</td>\n",
       "      <td>565.0</td>\n",
       "      <td>259.0</td>\n",
       "      <td>3.8462</td>\n",
       "      <td>342200.0</td>\n",
       "      <td>NEAR BAY</td>\n",
       "      <td>6.281853</td>\n",
       "      <td>1.081081</td>\n",
       "      <td>0.172096</td>\n",
       "      <td>2.181467</td>\n",
       "      <td>3.0</td>\n",
       "    </tr>\n",
       "  </tbody>\n",
       "</table>\n",
       "</div>"
      ],
      "text/plain": [
       "   longitude  latitude  housing_median_age  population  households  \\\n",
       "0    -122.23     37.88                41.0       322.0       126.0   \n",
       "1    -122.22     37.86                21.0      2401.0      1138.0   \n",
       "2    -122.24     37.85                52.0       496.0       177.0   \n",
       "3    -122.25     37.85                52.0       558.0       219.0   \n",
       "4    -122.25     37.85                52.0       565.0       259.0   \n",
       "\n",
       "   median_income  median_house_value ocean_proximity  rooms_per_household  \\\n",
       "0         8.3252            452600.0        NEAR BAY             6.984127   \n",
       "1         8.3014            358500.0        NEAR BAY             6.238137   \n",
       "2         7.2574            352100.0        NEAR BAY             8.288136   \n",
       "3         5.6431            341300.0        NEAR BAY             5.817352   \n",
       "4         3.8462            342200.0        NEAR BAY             6.281853   \n",
       "\n",
       "   bedrooms_per_household  bedrooms_per_room  population_per_household  \\\n",
       "0                1.023810           0.146591                  2.555556   \n",
       "1                0.971880           0.155797                  2.109842   \n",
       "2                1.073446           0.129516                  2.802260   \n",
       "3                1.073059           0.184458                  2.547945   \n",
       "4                1.081081           0.172096                  2.181467   \n",
       "\n",
       "   income_cat  \n",
       "0         5.0  \n",
       "1         5.0  \n",
       "2         5.0  \n",
       "3         4.0  \n",
       "4         3.0  "
      ]
     },
     "execution_count": 10,
     "metadata": {},
     "output_type": "execute_result"
    }
   ],
   "source": [
    "df.head()"
   ]
  },
  {
   "cell_type": "code",
   "execution_count": 11,
   "id": "84e76c54-deb8-4787-9b24-3bba6297fffd",
   "metadata": {},
   "outputs": [
    {
     "data": {
      "text/plain": [
       "(20640, 13)"
      ]
     },
     "execution_count": 11,
     "metadata": {},
     "output_type": "execute_result"
    }
   ],
   "source": [
    "df.shape"
   ]
  },
  {
   "cell_type": "code",
   "execution_count": 12,
   "id": "c496b477-71be-4785-b440-1350bf690c9b",
   "metadata": {},
   "outputs": [],
   "source": [
    "target = 'median_house_value'"
   ]
  },
  {
   "cell_type": "code",
   "execution_count": 13,
   "id": "84f28d1d-e693-4976-af1d-f7833ec7ea72",
   "metadata": {},
   "outputs": [],
   "source": [
    "if 'set' not in df.columns:\n",
    "    df['set'] = np.random.choice(['train', 'valid', 'test'], p =[.8, .1, .1], size=(df.shape[0],))"
   ]
  },
  {
   "cell_type": "code",
   "execution_count": 14,
   "id": "e6bf7bf1-0e70-49e3-9eb3-7b41b2841528",
   "metadata": {},
   "outputs": [],
   "source": [
    "train_indices = df[df.set=='train'].index\n",
    "valid_indices = df[df.set=='valid'].index\n",
    "test_indices = df[df.set=='test'].index"
   ]
  },
  {
   "cell_type": "markdown",
   "id": "ae84e1cc-4a00-4e55-87f2-c4ff8ae152b8",
   "metadata": {},
   "source": [
    "### Label Encoding and Filling NA"
   ]
  },
  {
   "cell_type": "code",
   "execution_count": 15,
   "id": "ff4b10de-3106-4f68-adf6-ff04497438d1",
   "metadata": {},
   "outputs": [],
   "source": [
    "categorical_columns = []\n",
    "categorical_dims =  {}"
   ]
  },
  {
   "cell_type": "code",
   "execution_count": 16,
   "id": "8a4af23f-5172-4599-b566-afbf7c6f75e6",
   "metadata": {},
   "outputs": [
    {
     "name": "stdout",
     "output_type": "stream",
     "text": [
      "ocean_proximity 5\n",
      "set 3\n"
     ]
    }
   ],
   "source": [
    "for col in df.columns[df.dtypes == object]:\n",
    "    print(col, df[col].nunique())\n",
    "    l_enc = LabelEncoder()\n",
    "    df[col] = df[col].fillna('UNK')\n",
    "    df[col] = l_enc.fit_transform(df[col].values)\n",
    "    categorical_columns.append(col)\n",
    "    categorical_dims[col] = len(l_enc.classes_)"
   ]
  },
  {
   "cell_type": "code",
   "execution_count": 17,
   "id": "db76f537-69d9-4940-8747-34dc2f8c39d8",
   "metadata": {},
   "outputs": [],
   "source": [
    "for col in df.columns[df.dtypes == 'float64']:\n",
    "    df.fillna(df.loc[train_indices, col].mean(), inplace=True)"
   ]
  },
  {
   "cell_type": "code",
   "execution_count": 18,
   "id": "48e4cf1e-1699-46e9-acc0-c61e8f7ca655",
   "metadata": {},
   "outputs": [
    {
     "data": {
      "text/html": [
       "<div>\n",
       "<style scoped>\n",
       "    .dataframe tbody tr th:only-of-type {\n",
       "        vertical-align: middle;\n",
       "    }\n",
       "\n",
       "    .dataframe tbody tr th {\n",
       "        vertical-align: top;\n",
       "    }\n",
       "\n",
       "    .dataframe thead th {\n",
       "        text-align: right;\n",
       "    }\n",
       "</style>\n",
       "<table border=\"1\" class=\"dataframe\">\n",
       "  <thead>\n",
       "    <tr style=\"text-align: right;\">\n",
       "      <th></th>\n",
       "      <th>longitude</th>\n",
       "      <th>latitude</th>\n",
       "      <th>housing_median_age</th>\n",
       "      <th>population</th>\n",
       "      <th>households</th>\n",
       "      <th>median_income</th>\n",
       "      <th>median_house_value</th>\n",
       "      <th>ocean_proximity</th>\n",
       "      <th>rooms_per_household</th>\n",
       "      <th>bedrooms_per_household</th>\n",
       "      <th>bedrooms_per_room</th>\n",
       "      <th>population_per_household</th>\n",
       "      <th>income_cat</th>\n",
       "      <th>set</th>\n",
       "    </tr>\n",
       "  </thead>\n",
       "  <tbody>\n",
       "    <tr>\n",
       "      <th>0</th>\n",
       "      <td>-122.23</td>\n",
       "      <td>37.88</td>\n",
       "      <td>41.0</td>\n",
       "      <td>322.0</td>\n",
       "      <td>126.0</td>\n",
       "      <td>8.3252</td>\n",
       "      <td>452600.0</td>\n",
       "      <td>3</td>\n",
       "      <td>6.984127</td>\n",
       "      <td>1.023810</td>\n",
       "      <td>0.146591</td>\n",
       "      <td>2.555556</td>\n",
       "      <td>5.0</td>\n",
       "      <td>0</td>\n",
       "    </tr>\n",
       "    <tr>\n",
       "      <th>1</th>\n",
       "      <td>-122.22</td>\n",
       "      <td>37.86</td>\n",
       "      <td>21.0</td>\n",
       "      <td>2401.0</td>\n",
       "      <td>1138.0</td>\n",
       "      <td>8.3014</td>\n",
       "      <td>358500.0</td>\n",
       "      <td>3</td>\n",
       "      <td>6.238137</td>\n",
       "      <td>0.971880</td>\n",
       "      <td>0.155797</td>\n",
       "      <td>2.109842</td>\n",
       "      <td>5.0</td>\n",
       "      <td>1</td>\n",
       "    </tr>\n",
       "    <tr>\n",
       "      <th>2</th>\n",
       "      <td>-122.24</td>\n",
       "      <td>37.85</td>\n",
       "      <td>52.0</td>\n",
       "      <td>496.0</td>\n",
       "      <td>177.0</td>\n",
       "      <td>7.2574</td>\n",
       "      <td>352100.0</td>\n",
       "      <td>3</td>\n",
       "      <td>8.288136</td>\n",
       "      <td>1.073446</td>\n",
       "      <td>0.129516</td>\n",
       "      <td>2.802260</td>\n",
       "      <td>5.0</td>\n",
       "      <td>1</td>\n",
       "    </tr>\n",
       "    <tr>\n",
       "      <th>3</th>\n",
       "      <td>-122.25</td>\n",
       "      <td>37.85</td>\n",
       "      <td>52.0</td>\n",
       "      <td>558.0</td>\n",
       "      <td>219.0</td>\n",
       "      <td>5.6431</td>\n",
       "      <td>341300.0</td>\n",
       "      <td>3</td>\n",
       "      <td>5.817352</td>\n",
       "      <td>1.073059</td>\n",
       "      <td>0.184458</td>\n",
       "      <td>2.547945</td>\n",
       "      <td>4.0</td>\n",
       "      <td>1</td>\n",
       "    </tr>\n",
       "    <tr>\n",
       "      <th>4</th>\n",
       "      <td>-122.25</td>\n",
       "      <td>37.85</td>\n",
       "      <td>52.0</td>\n",
       "      <td>565.0</td>\n",
       "      <td>259.0</td>\n",
       "      <td>3.8462</td>\n",
       "      <td>342200.0</td>\n",
       "      <td>3</td>\n",
       "      <td>6.281853</td>\n",
       "      <td>1.081081</td>\n",
       "      <td>0.172096</td>\n",
       "      <td>2.181467</td>\n",
       "      <td>3.0</td>\n",
       "      <td>1</td>\n",
       "    </tr>\n",
       "  </tbody>\n",
       "</table>\n",
       "</div>"
      ],
      "text/plain": [
       "   longitude  latitude  housing_median_age  population  households  \\\n",
       "0    -122.23     37.88                41.0       322.0       126.0   \n",
       "1    -122.22     37.86                21.0      2401.0      1138.0   \n",
       "2    -122.24     37.85                52.0       496.0       177.0   \n",
       "3    -122.25     37.85                52.0       558.0       219.0   \n",
       "4    -122.25     37.85                52.0       565.0       259.0   \n",
       "\n",
       "   median_income  median_house_value  ocean_proximity  rooms_per_household  \\\n",
       "0         8.3252            452600.0                3             6.984127   \n",
       "1         8.3014            358500.0                3             6.238137   \n",
       "2         7.2574            352100.0                3             8.288136   \n",
       "3         5.6431            341300.0                3             5.817352   \n",
       "4         3.8462            342200.0                3             6.281853   \n",
       "\n",
       "   bedrooms_per_household  bedrooms_per_room  population_per_household  \\\n",
       "0                1.023810           0.146591                  2.555556   \n",
       "1                0.971880           0.155797                  2.109842   \n",
       "2                1.073446           0.129516                  2.802260   \n",
       "3                1.073059           0.184458                  2.547945   \n",
       "4                1.081081           0.172096                  2.181467   \n",
       "\n",
       "   income_cat  set  \n",
       "0         5.0    0  \n",
       "1         5.0    1  \n",
       "2         5.0    1  \n",
       "3         4.0    1  \n",
       "4         3.0    1  "
      ]
     },
     "execution_count": 18,
     "metadata": {},
     "output_type": "execute_result"
    }
   ],
   "source": [
    "df.head()"
   ]
  },
  {
   "cell_type": "code",
   "execution_count": 19,
   "id": "586d4e94-8ebe-4f59-855a-5a9f812acbc1",
   "metadata": {},
   "outputs": [
    {
     "data": {
      "text/plain": [
       "longitude                   float64\n",
       "latitude                    float64\n",
       "housing_median_age          float64\n",
       "population                  float64\n",
       "households                  float64\n",
       "median_income               float64\n",
       "median_house_value          float64\n",
       "ocean_proximity               int64\n",
       "rooms_per_household         float64\n",
       "bedrooms_per_household      float64\n",
       "bedrooms_per_room           float64\n",
       "population_per_household    float64\n",
       "income_cat                  float64\n",
       "set                           int64\n",
       "dtype: object"
      ]
     },
     "execution_count": 19,
     "metadata": {},
     "output_type": "execute_result"
    }
   ],
   "source": [
    "df.dtypes"
   ]
  },
  {
   "cell_type": "markdown",
   "id": "66d119e6-0cc0-417e-84bc-feec9fa87278",
   "metadata": {
    "tags": []
   },
   "source": [
    "### Define categorical features for categorical embeddings"
   ]
  },
  {
   "cell_type": "code",
   "execution_count": 20,
   "id": "e7589fdd-e824-4150-82de-55ca411cdd45",
   "metadata": {},
   "outputs": [
    {
     "name": "stdout",
     "output_type": "stream",
     "text": [
      "[5]\n"
     ]
    }
   ],
   "source": [
    "unused_feat = ['set']\n",
    "\n",
    "features = [col for col in df.columns if col not in unused_feat+[target]] \n",
    "\n",
    "cat_idxs = [i for i, f in enumerate(features) if f in categorical_columns]\n",
    "\n",
    "cat_dims = [categorical_dims[f] for i, f in enumerate(features) if f in categorical_columns]\n",
    "print(cat_dims)"
   ]
  },
  {
   "cell_type": "code",
   "execution_count": 21,
   "id": "01082fe6-889d-40c8-8dd8-a36634a437e0",
   "metadata": {},
   "outputs": [],
   "source": [
    "# define your embedding sizes : here just a random choice\n",
    "cat_emb_dim = [6]"
   ]
  },
  {
   "cell_type": "markdown",
   "id": "c871d25c-04da-44dd-9ead-234dbc09e418",
   "metadata": {},
   "source": [
    "### TabNet Model"
   ]
  },
  {
   "cell_type": "code",
   "execution_count": 22,
   "id": "9785634a-4a11-42b0-a9a0-2293df254366",
   "metadata": {},
   "outputs": [],
   "source": [
    "tabnet_params = {\"cat_idxs\": cat_idxs,\n",
    "                 \"cat_dims\": cat_dims,\n",
    "                 \"cat_emb_dim\": 2,\n",
    "                 \"optimizer_fn\": torch.optim.Adam,\n",
    "                 \"optimizer_params\": dict(lr=2e-2),\n",
    "                 \"scheduler_params\": {\"step_size\":50, # how to use learning rate scheduler\n",
    "                                      \"gamma\":0.9},\n",
    "                 \"scheduler_fn\": torch.optim.lr_scheduler.StepLR,\n",
    "                 \"mask_type\": 'entmax', # \"sparsemax\"\n",
    "                 \"verbose\": 10,\n",
    "                 \"seed\": 42\n",
    "                }"
   ]
  },
  {
   "cell_type": "code",
   "execution_count": 23,
   "id": "6bd13890-a4ec-4fde-b5df-bd3fdf54ea09",
   "metadata": {},
   "outputs": [],
   "source": [
    "model = TabNetRegressor(**tabnet_params)"
   ]
  },
  {
   "cell_type": "code",
   "execution_count": 24,
   "id": "a0c43f2e-a8eb-4e7d-be79-3c8a986d0f9a",
   "metadata": {},
   "outputs": [],
   "source": [
    "X_train = df[features].values[train_indices]\n",
    "y_train = df[target].values[train_indices].reshape(-1, 1)\n",
    "\n",
    "X_valid = df[features].values[valid_indices]\n",
    "y_valid = df[target].values[valid_indices].reshape(-1, 1)\n",
    "\n",
    "X_test = df[features].values[test_indices]\n",
    "y_test = df[target].values[test_indices].reshape(-1, 1)"
   ]
  },
  {
   "cell_type": "code",
   "execution_count": 25,
   "id": "dd9e7ee3-b823-42b8-9973-a09601135340",
   "metadata": {},
   "outputs": [
    {
     "data": {
      "text/plain": [
       "100"
      ]
     },
     "execution_count": 25,
     "metadata": {},
     "output_type": "execute_result"
    }
   ],
   "source": [
    "max_epochs = 100 if not os.getenv(\"CI\", False) else 2\n",
    "max_epochs"
   ]
  },
  {
   "cell_type": "code",
   "execution_count": 26,
   "id": "a961f0ed-83e8-4079-b758-ffbe919b5882",
   "metadata": {},
   "outputs": [],
   "source": [
    "aug = RegressionSMOTE(p=0.2)"
   ]
  },
  {
   "cell_type": "code",
   "execution_count": null,
   "id": "05a5a57c-d440-4fe9-b429-658a1f64251a",
   "metadata": {},
   "outputs": [
    {
     "name": "stdout",
     "output_type": "stream",
     "text": [
      "epoch 0  | loss: 55274484736.0| train_rmse: 237512.53778| valid_rmse: 231995.55654|  0:00:02s\n",
      "epoch 10 | loss: 55026726400.0| train_rmse: 236279.46691| valid_rmse: 230797.0206|  0:00:26s\n",
      "epoch 20 | loss: 54155904000.0| train_rmse: 233990.97375| valid_rmse: 228576.15413|  0:00:49s\n",
      "epoch 30 | loss: 53011591424.0| train_rmse: 231591.7928| valid_rmse: 226246.93454|  0:01:11s\n",
      "epoch 40 | loss: 51333659136.0| train_rmse: 229055.18881| valid_rmse: 223846.19613|  0:01:34s\n",
      "epoch 50 | loss: 49715982080.0| train_rmse: 225344.79147| valid_rmse: 220226.30861|  0:01:57s\n",
      "epoch 60 | loss: 48382377728.0| train_rmse: 219348.49538| valid_rmse: 214419.94114|  0:02:20s\n",
      "epoch 70 | loss: 46460562688.0| train_rmse: 218574.16358| valid_rmse: 213665.31584|  0:02:43s\n",
      "epoch 80 | loss: 44648083200.0| train_rmse: 212240.28674| valid_rmse: 207508.00077|  0:03:05s\n",
      "epoch 90 | loss: 42737497856.00001| train_rmse: 208653.37262| valid_rmse: 204152.99448|  0:03:29s\n",
      "epoch 100| loss: 40800419328.0| train_rmse: 204565.05624| valid_rmse: 200145.40453|  0:03:51s\n",
      "epoch 110| loss: 38755500544.0| train_rmse: 198521.28123| valid_rmse: 194344.522|  0:04:14s\n",
      "epoch 120| loss: 36739510656.0| train_rmse: 195326.21837| valid_rmse: 191494.08908|  0:04:37s\n",
      "epoch 130| loss: 34768166656.0| train_rmse: 191790.99868| valid_rmse: 188119.39898|  0:04:59s\n",
      "epoch 140| loss: 32596862592.0| train_rmse: 178764.0405| valid_rmse: 175438.29147|  0:05:22s\n",
      "epoch 150| loss: 30644479744.0| train_rmse: 172755.35144| valid_rmse: 169725.61913|  0:05:45s\n",
      "epoch 160| loss: 28821906560.0| train_rmse: 171574.71228| valid_rmse: 168634.47857|  0:06:08s\n",
      "epoch 170| loss: 26869161088.0| train_rmse: 164052.45686| valid_rmse: 161489.6446|  0:06:31s\n",
      "epoch 180| loss: 25308552064.0| train_rmse: 167741.26596| valid_rmse: 164879.77053|  0:06:54s\n",
      "epoch 190| loss: 23463725696.0| train_rmse: 154463.42699| valid_rmse: 152454.94777|  0:07:16s\n",
      "epoch 200| loss: 21759001216.0| train_rmse: 149415.83135| valid_rmse: 147116.11421|  0:07:38s\n",
      "epoch 210| loss: 20259837952.0| train_rmse: 146358.23992| valid_rmse: 144713.70113|  0:08:02s\n",
      "epoch 220| loss: 18750763648.0| train_rmse: 145624.71225| valid_rmse: 143798.94826|  0:08:26s\n",
      "epoch 230| loss: 17367040576.0| train_rmse: 132312.28494| valid_rmse: 131170.97642|  0:08:51s\n",
      "epoch 240| loss: 16012393344.0| train_rmse: 127229.39563| valid_rmse: 126579.93977|  0:09:14s\n",
      "epoch 250| loss: 14718010880.0| train_rmse: 119634.15583| valid_rmse: 119119.39013|  0:09:37s\n",
      "epoch 260| loss: 13610825216.0| train_rmse: 117625.58515| valid_rmse: 117549.39659|  0:10:00s\n",
      "epoch 270| loss: 12479953856.0| train_rmse: 118969.04593| valid_rmse: 118591.95165|  0:10:23s\n",
      "epoch 280| loss: 11618790080.0| train_rmse: 111355.65941| valid_rmse: 111153.10318|  0:10:46s\n",
      "epoch 290| loss: 10533065728.0| train_rmse: 102602.30975| valid_rmse: 102995.11546|  0:11:08s\n",
      "epoch 300| loss: 9537518976.0| train_rmse: 104921.04577| valid_rmse: 104476.01314|  0:11:31s\n",
      "epoch 310| loss: 8687447744.0| train_rmse: 85545.37647| valid_rmse: 86704.73766|  0:11:54s\n",
      "epoch 320| loss: 7810941920.0| train_rmse: 90222.1268| valid_rmse: 91934.78697|  0:12:17s\n",
      "epoch 330| loss: 7181651328.0| train_rmse: 90393.14381| valid_rmse: 91359.86769|  0:12:39s\n",
      "epoch 340| loss: 6642573824.0| train_rmse: 77570.0593| valid_rmse: 79928.30059|  0:13:02s\n",
      "epoch 350| loss: 5982553408.0| train_rmse: 87645.23408| valid_rmse: 89346.04038|  0:13:25s\n",
      "epoch 360| loss: 5562925632.0| train_rmse: 73157.047| valid_rmse: 75746.33765|  0:13:48s\n",
      "epoch 370| loss: 5113861952.0| train_rmse: 81556.19145| valid_rmse: 83378.84076|  0:14:10s\n",
      "epoch 380| loss: 4728139952.0| train_rmse: 83273.03467| valid_rmse: 84736.27741|  0:14:33s\n",
      "epoch 390| loss: 4364780528.0| train_rmse: 62989.8974| valid_rmse: 66219.96612|  0:14:56s\n",
      "epoch 400| loss: 4052983488.0| train_rmse: 61500.89971| valid_rmse: 65020.31483|  0:15:18s\n",
      "epoch 410| loss: 3737226016.0| train_rmse: 60127.64382| valid_rmse: 64703.38277|  0:15:41s\n",
      "epoch 420| loss: 3614235872.0| train_rmse: 63570.45598| valid_rmse: 66950.36201|  0:16:04s\n",
      "epoch 430| loss: 3347742656.0| train_rmse: 67516.64055| valid_rmse: 70737.98642|  0:16:26s\n",
      "epoch 440| loss: 3336768432.0| train_rmse: 55571.76193| valid_rmse: 59188.98229|  0:16:49s\n",
      "epoch 450| loss: 3102859408.0| train_rmse: 59599.34353| valid_rmse: 62981.66069|  0:17:12s\n",
      "epoch 460| loss: 2987361152.0| train_rmse: 52564.32339| valid_rmse: 57787.99127|  0:17:35s\n",
      "epoch 470| loss: 2936390304.0| train_rmse: 55027.08087| valid_rmse: 59174.36437|  0:17:59s\n",
      "epoch 480| loss: 2853181680.0| train_rmse: 55002.47552| valid_rmse: 58747.53|  0:18:24s\n",
      "epoch 490| loss: 2772647648.0| train_rmse: 54834.01798| valid_rmse: 59475.31757|  0:18:46s\n",
      "epoch 500| loss: 2678140656.0| train_rmse: 52795.3748| valid_rmse: 57078.92567|  0:19:09s\n",
      "epoch 510| loss: 2626446944.0| train_rmse: 52904.80149| valid_rmse: 58034.58472|  0:19:32s\n",
      "epoch 520| loss: 2660451120.0| train_rmse: 52201.60193| valid_rmse: 56407.18069|  0:19:55s\n",
      "epoch 530| loss: 2556197416.0| train_rmse: 50650.66683| valid_rmse: 55607.54907|  0:20:17s\n",
      "epoch 540| loss: 2566519856.0| train_rmse: 56359.08714| valid_rmse: 61293.85537|  0:20:41s\n",
      "epoch 550| loss: 2575196288.0| train_rmse: 47667.20257| valid_rmse: 53229.67604|  0:21:05s\n",
      "epoch 560| loss: 2623017784.0| train_rmse: 51010.26695| valid_rmse: 56502.72281|  0:21:28s\n",
      "epoch 570| loss: 2560228536.0| train_rmse: 47350.73517| valid_rmse: 53381.34872|  0:21:51s\n",
      "epoch 580| loss: 2551275584.0| train_rmse: 47174.79274| valid_rmse: 53098.37132|  0:22:15s\n",
      "epoch 590| loss: 2563968304.0| train_rmse: 48873.97047| valid_rmse: 54614.37264|  0:22:38s\n",
      "epoch 600| loss: 2558303808.0| train_rmse: 47609.63923| valid_rmse: 53511.13058|  0:23:02s\n",
      "epoch 610| loss: 2492047088.0| train_rmse: 49981.4607| valid_rmse: 55995.47905|  0:23:26s\n",
      "epoch 620| loss: 2524996328.0| train_rmse: 47471.31072| valid_rmse: 53710.05369|  0:23:49s\n",
      "epoch 630| loss: 2534159448.0| train_rmse: 47146.36324| valid_rmse: 53404.19879|  0:24:11s\n"
     ]
    }
   ],
   "source": [
    "model.fit(\n",
    "    X_train=X_train, \n",
    "    y_train=y_train,\n",
    "    eval_set=[(X_train, y_train), (X_valid, y_valid)],\n",
    "    eval_name=['train', 'valid'],\n",
    "    eval_metric=['rmse'],\n",
    "    patience=300, \n",
    "    max_epochs=1000,\n",
    "    augmentations=aug,\n",
    "    num_workers=8\n",
    ") "
   ]
  },
  {
   "cell_type": "code",
   "execution_count": null,
   "id": "e28e8a78-d861-4964-8fb9-71e09c82e4b4",
   "metadata": {},
   "outputs": [],
   "source": [
    "preds = model.predict(X_test)"
   ]
  },
  {
   "cell_type": "code",
   "execution_count": null,
   "id": "094012c1-cf05-484a-a2f2-fc29bbe08d96",
   "metadata": {},
   "outputs": [],
   "source": [
    "y_true = y_test\n",
    "\n",
    "test_score = r2_score(y_pred=preds, y_true=y_true)\n",
    "\n",
    "# print(f\"BEST VALID SCORE: {model.best_cost}\")\n",
    "print(f\"FINAL TEST SCORE: {test_score}\")"
   ]
  },
  {
   "cell_type": "code",
   "execution_count": null,
   "id": "bec60ec2-3bfc-41ba-a259-4646627beca2",
   "metadata": {},
   "outputs": [],
   "source": [
    "model.feature_importances_"
   ]
  },
  {
   "cell_type": "code",
   "execution_count": null,
   "id": "3a713d66-2b21-4894-b70f-8fc8edc47219",
   "metadata": {},
   "outputs": [],
   "source": []
  },
  {
   "cell_type": "code",
   "execution_count": null,
   "id": "cf62c6ee-2ffb-4c60-914b-a932baeb866b",
   "metadata": {},
   "outputs": [],
   "source": []
  },
  {
   "cell_type": "code",
   "execution_count": null,
   "id": "6c659e3c-f0e9-4900-b64d-9d864feef4a6",
   "metadata": {},
   "outputs": [],
   "source": []
  }
 ],
 "metadata": {
  "kernelspec": {
   "display_name": "Python 3",
   "language": "python",
   "name": "python3"
  },
  "language_info": {
   "codemirror_mode": {
    "name": "ipython",
    "version": 3
   },
   "file_extension": ".py",
   "mimetype": "text/x-python",
   "name": "python",
   "nbconvert_exporter": "python",
   "pygments_lexer": "ipython3",
   "version": "3.6.9"
  }
 },
 "nbformat": 4,
 "nbformat_minor": 5
}
